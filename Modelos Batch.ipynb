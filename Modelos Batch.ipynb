{
 "cells": [
  {
   "cell_type": "code",
   "execution_count": 32,
   "id": "d48edfdc",
   "metadata": {},
   "outputs": [],
   "source": [
    "import docplex\n",
    "from docplex.mp.model import Model\n",
    "import cplex"
   ]
  },
  {
   "cell_type": "markdown",
   "id": "d46567e6",
   "metadata": {},
   "source": [
    "# Estruturas de dados utilizadas\n",
    "\n",
    "## Representação geral do problema"
   ]
  },
  {
   "cell_type": "code",
   "execution_count": 33,
   "id": "3f169cd2",
   "metadata": {},
   "outputs": [],
   "source": [
    "class Job:\n",
    "    def __init__(self, id, processing_time, size):\n",
    "        self.id = id\n",
    "        self.processing_time = processing_time\n",
    "        self.size = size\n",
    "\n",
    "class Machine:\n",
    "    def __init__(self, id, capacity):\n",
    "        self.id = id\n",
    "        self.capacity = capacity\n",
    "\n",
    "class Problem:\n",
    "    def __init__(self):\n",
    "        self.jobs = []\n",
    "        self.machines = []\n",
    "        self.model = Model(\"Job Scheduling\")\n",
    "\n",
    "    def add_job(self, job):\n",
    "        self.jobs.append(job)\n",
    "\n",
    "    def add_machine(self, machine):\n",
    "        self.machines.append(machine)\n",
    "    \n",
    "    def get_number_of_jobs(self):\n",
    "        return len(self.jobs)\n",
    "    \n",
    "    def get_number_of_machines(self):\n",
    "        return len(self.machines)   \n",
    "    \n",
    "    def get_job(self, index):\n",
    "        return self.jobs[index]\n",
    "    \n",
    "    def get_machine(self, index):\n",
    "        return self.machines[index]\n"
   ]
  },
  {
   "cell_type": "markdown",
   "id": "c4943632",
   "metadata": {},
   "source": [
    "## Representação do problema específico da representação por fluxo"
   ]
  },
  {
   "cell_type": "code",
   "execution_count": 34,
   "id": "2ea6117a",
   "metadata": {},
   "outputs": [],
   "source": [
    "class ProblemFlow:\n",
    "    def __init__(self, problem):\n",
    "        self.problem = problem\n",
    "        self.distinct_sizes = sorted(set(job.size for job in problem.jobs))\n",
    "        self.distict_processing_times = sorted(set(job.processing_time for job in problem.jobs))\n",
    "        self.jobs_by_size = {}\n",
    "        for size in self.distinct_sizes:\n",
    "            self.jobs_by_size[size] = [job for job in problem.jobs if job.size == size]\n",
    "        \n",
    "        self.vertices = sorted(list(self.distinct_sizes))\n",
    "        \n",
    "        self.Aj = [(i,j) \n",
    "                    for i in range(problem.get_number_of_jobs()) \n",
    "                    for j in range(problem.get_number_of_jobs()) \n",
    "                    if (i < j) and (problem.get_job(i).size == j - i)\n",
    "                ]\n",
    "        \n",
    "\n",
    "    def get_number_of_distinct_sizes(self):\n",
    "        return len(self.distinct_sizes)\n",
    "    \n",
    "    def get_number_of_distinct_processing_times(self):\n",
    "        return len(self.distict_processing_times)\n",
    "    \n",
    "    def jobs_by_size(self, size):\n",
    "        return self.jobs_by_size.get(size, [])\n",
    "    \n",
    "    \n"
   ]
  },
  {
   "cell_type": "code",
   "execution_count": 35,
   "id": "be4e9d04",
   "metadata": {},
   "outputs": [],
   "source": [
    "# Função que gera um problema dummy:\n",
    "def get_dummy():\n",
    "    problem = Problem()\n",
    "    problem.add_machine(Machine(0, 10))\n",
    "    problem.add_machine(Machine(1, 15))\n",
    "    problem.add_job(Job(0, 5, 3))\n",
    "    problem.add_job(Job(1, 7, 5))\n",
    "    problem.add_job(Job(2, 4, 3))\n",
    "    problem.add_job(Job(3, 6, 7))\n",
    "    problem.add_job(Job(4, 8, 5))\n",
    "\n",
    "    problem_flow = ProblemFlow(problem)\n",
    "    return problem_flow"
   ]
  },
  {
   "cell_type": "markdown",
   "id": "744236d0",
   "metadata": {},
   "source": [
    "# Modelo de Fluxo (Trindade et al)"
   ]
  },
  {
   "cell_type": "code",
   "execution_count": 36,
   "id": "d49888c2",
   "metadata": {},
   "outputs": [],
   "source": [
    "meu_problema = get_dummy()"
   ]
  },
  {
   "cell_type": "code",
   "execution_count": 37,
   "id": "5d15994a",
   "metadata": {},
   "outputs": [],
   "source": [
    "# Criação do modelo\n",
    "\n",
    "model = Model(name=\"FlowTrindade\", log_output=True)\n",
    "\n",
    "# Definição de variáveis\n",
    "\n",
    "# Função objetivo\n",
    "FO = model.FO = model.continuous_var(name=\"FO\")\n",
    "\n",
    "number_of_jobs = meu_problema.problem.get_number_of_jobs()\n",
    "number_of_ptimes = meu_problema.get_number_of_distinct_processing_times()\n",
    "fijt = model.fijt = model.binary_var_cube(\n",
    "    number_of_jobs, \n",
    "    number_of_jobs, \n",
    "    number_of_ptimes, name=\"fijt\")\n",
    "\n",
    "yij = model.yij = model.binary_var_matrix(\n",
    "    number_of_jobs,\n",
    "    number_of_ptimes, name=\"yij\")\n",
    "\n",
    "vt = model.vt = model.binary_var_list(number_of_ptimes, name=\"vt\")\n",
    "\n",
    "zlt = model.zlt = model.binary_var_matrix(\n",
    "    meu_problema.get_number_of_distinct_sizes(),\n",
    "    number_of_ptimes, name=\"zlt\")\n"
   ]
  },
  {
   "cell_type": "code",
   "execution_count": 38,
   "id": "78224472",
   "metadata": {},
   "outputs": [
    {
     "data": {
      "text/plain": [
       "[docplex.mp.LinearConstraint[](fijt_0_1_0+fijt_0_2_0+fijt_0_3_0+fijt_0_4_0-vt_0,EQ,0),\n",
       " docplex.mp.LinearConstraint[](fijt_0_1_1+fijt_0_2_1+fijt_0_3_1+fijt_0_4_1-vt_1,EQ,0),\n",
       " docplex.mp.LinearConstraint[](fijt_0_1_2+fijt_0_2_2+fijt_0_3_2+fijt_0_4_2-vt_2,EQ,0),\n",
       " docplex.mp.LinearConstraint[](fijt_0_1_3+fijt_0_2_3+fijt_0_3_3+fijt_0_4_3-vt_3,EQ,0),\n",
       " docplex.mp.LinearConstraint[](fijt_0_1_4+fijt_0_2_4+fijt_0_3_4+fijt_0_4_4-vt_4,EQ,0)]"
      ]
     },
     "execution_count": 38,
     "metadata": {},
     "output_type": "execute_result"
    }
   ],
   "source": [
    "# Restrições:\n",
    "\n",
    "## FO\n",
    "model.minimize(FO)\n",
    "\n",
    "model.add_constraint(FO == model.sum(\n",
    "    meu_problema.distict_processing_times[t] * vt[t] \n",
    "    for t in range(number_of_ptimes)\n",
    "    ))\n",
    "            \n",
    "## Eq 18\n",
    "model.add_constraints(\n",
    "    model.sum(fijt[0,j,t] for j in range(1, number_of_jobs)) - vt[t] == 0\n",
    "    for t in range(number_of_ptimes)\n",
    ")   "
   ]
  },
  {
   "cell_type": "code",
   "execution_count": 39,
   "id": "986588b5",
   "metadata": {},
   "outputs": [
    {
     "ename": "DOcplexException",
     "evalue": "Cannot solve model: no CPLEX runtime found.",
     "output_type": "error",
     "traceback": [
      "\u001b[0;31m---------------------------------------------------------------------------\u001b[0m",
      "\u001b[0;31mDOcplexException\u001b[0m                          Traceback (most recent call last)",
      "Cell \u001b[0;32mIn[39], line 1\u001b[0m\n\u001b[0;32m----> 1\u001b[0m \u001b[43mmodel\u001b[49m\u001b[38;5;241;43m.\u001b[39;49m\u001b[43msolve\u001b[49m\u001b[43m(\u001b[49m\u001b[43m)\u001b[49m\n",
      "File \u001b[0;32m~/Trabalho/ensino/Ano2025/ferramentas/curso_ferramentas_po/.venv/lib/python3.12/site-packages/docplex/mp/model.py:4903\u001b[0m, in \u001b[0;36mModel.solve\u001b[0;34m(self, **kwargs)\u001b[0m\n\u001b[1;32m   4901\u001b[0m     \u001b[38;5;28;01mreturn\u001b[39;00m \u001b[38;5;28mself\u001b[39m\u001b[38;5;241m.\u001b[39m_solve_local(context, used_clean_before_solve, parameter_sets)\u001b[38;5;66;03m# lex_timelimits, lex_mipgaps)\u001b[39;00m\n\u001b[1;32m   4902\u001b[0m \u001b[38;5;28;01melse\u001b[39;00m:\n\u001b[0;32m-> 4903\u001b[0m     \u001b[38;5;28;01mreturn\u001b[39;00m \u001b[38;5;28;43mself\u001b[39;49m\u001b[38;5;241;43m.\u001b[39;49m\u001b[43mfatal\u001b[49m\u001b[43m(\u001b[49m\u001b[38;5;124;43m\"\u001b[39;49m\u001b[38;5;124;43mCannot solve model: no CPLEX runtime found.\u001b[39;49m\u001b[38;5;124;43m\"\u001b[39;49m\u001b[43m)\u001b[49m\n",
      "File \u001b[0;32m~/Trabalho/ensino/Ano2025/ferramentas/curso_ferramentas_po/.venv/lib/python3.12/site-packages/docplex/mp/model.py:1093\u001b[0m, in \u001b[0;36mModel.fatal\u001b[0;34m(self, msg, *args)\u001b[0m\n\u001b[1;32m   1092\u001b[0m \u001b[38;5;28;01mdef\u001b[39;00m \u001b[38;5;21mfatal\u001b[39m(\u001b[38;5;28mself\u001b[39m, msg, \u001b[38;5;241m*\u001b[39margs):\n\u001b[0;32m-> 1093\u001b[0m     \u001b[38;5;28;43mself\u001b[39;49m\u001b[38;5;241;43m.\u001b[39;49m\u001b[43m_error_handler\u001b[49m\u001b[38;5;241;43m.\u001b[39;49m\u001b[43mfatal\u001b[49m\u001b[43m(\u001b[49m\u001b[43mmsg\u001b[49m\u001b[43m,\u001b[49m\u001b[43m \u001b[49m\u001b[43margs\u001b[49m\u001b[43m)\u001b[49m\n",
      "File \u001b[0;32m~/Trabalho/ensino/Ano2025/ferramentas/curso_ferramentas_po/.venv/lib/python3.12/site-packages/docplex/mp/error_handler.py:210\u001b[0m, in \u001b[0;36mAbstractErrorHandler.fatal\u001b[0;34m(self, msg, args)\u001b[0m\n\u001b[1;32m    208\u001b[0m resolved_message \u001b[38;5;241m=\u001b[39m resolve_pattern(msg, args)\n\u001b[1;32m    209\u001b[0m docplex_error_stop_here()\n\u001b[0;32m--> 210\u001b[0m \u001b[38;5;28;01mraise\u001b[39;00m DOcplexException(resolved_message)\n",
      "\u001b[0;31mDOcplexException\u001b[0m: Cannot solve model: no CPLEX runtime found."
     ]
    }
   ],
   "source": [
    "model.solve()"
   ]
  }
 ],
 "metadata": {
  "kernelspec": {
   "display_name": ".venv (3.12.3)",
   "language": "python",
   "name": "python3"
  },
  "language_info": {
   "codemirror_mode": {
    "name": "ipython",
    "version": 3
   },
   "file_extension": ".py",
   "mimetype": "text/x-python",
   "name": "python",
   "nbconvert_exporter": "python",
   "pygments_lexer": "ipython3",
   "version": "3.12.3"
  }
 },
 "nbformat": 4,
 "nbformat_minor": 5
}
