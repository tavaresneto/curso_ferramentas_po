{
 "cells": [
  {
   "cell_type": "markdown",
   "metadata": {},
   "source": [
    "# Algoritmos Construtivos\n",
    "\n",
    "## Regras de despacho\n",
    "\n",
    "**SPT** (ordena por tempo de processamento)\n",
    "\n",
    "- Usada para minimizar tempo médio de fluxo em ambiente de máquina única\n",
    "\n",
    "**EDD** (ordena por _due date_)\n",
    "\n",
    "- Usada para minimizar o atraso máximo em ambiente de máquina única\n",
    "\n",
    "### Parênteses: ordenação e funções lambda no Python\n",
    "\n",
    "A forma mais comum de se escrever uma função é a seguinte:"
   ]
  },
  {
   "cell_type": "code",
   "execution_count": 1,
   "metadata": {},
   "outputs": [
    {
     "name": "stdout",
     "output_type": "stream",
     "text": [
      "7\n"
     ]
    }
   ],
   "source": [
    "def soma(a, b):\n",
    "    return a + b\n",
    "\n",
    "print(soma(2, 5))"
   ]
  },
  {
   "cell_type": "markdown",
   "metadata": {},
   "source": [
    "Mas também podemos definir uma função usando **funções lambda**. Abaixo, temos a função lambda equivalente ao código acima:"
   ]
  },
  {
   "cell_type": "code",
   "execution_count": 2,
   "metadata": {},
   "outputs": [
    {
     "name": "stdout",
     "output_type": "stream",
     "text": [
      "7\n"
     ]
    }
   ],
   "source": [
    "soma = lambda a, b: a + b\n",
    "\n",
    "print(soma(2, 5))"
   ]
  },
  {
   "cell_type": "markdown",
   "metadata": {},
   "source": [
    "O conceito de função lambda é muito usado pelo python, por simplificar a definição de funções simples. Vamos aplicar esse conceito nas bibliotecas de ordenação do Python. O Python possui uma função nativa chamada `sorted`:\n",
    "\n",
    "`sorted(iterable, key=key, reverse=reverse)`\n",
    "\n",
    "O exemplo de uso mais simples é o seguinte:"
   ]
  },
  {
   "cell_type": "code",
   "execution_count": 3,
   "metadata": {},
   "outputs": [
    {
     "name": "stdout",
     "output_type": "stream",
     "text": [
      "[1, 2, 3, 4, 44, 45, 77]\n"
     ]
    }
   ],
   "source": [
    "nao_ordenado = [4, 2, 3, 1, 45, 77, 44]\n",
    "\n",
    "ordenado = sorted(nao_ordenado)\n",
    "\n",
    "print(ordenado)"
   ]
  },
  {
   "cell_type": "markdown",
   "metadata": {},
   "source": [
    "Mas vamos supor que temos um conjunto mais complexo de dados. Por exemplo, vamos supor que temos uma classe que representa uma tarefa a ser executada em uma única máquina. Queremos aplicar a regra SPT:"
   ]
  },
  {
   "cell_type": "code",
   "execution_count": 5,
   "metadata": {},
   "outputs": [
    {
     "name": "stdout",
     "output_type": "stream",
     "text": [
      "1 2\n",
      "0 10\n",
      "3 25\n",
      "4 35\n",
      "2 50\n"
     ]
    }
   ],
   "source": [
    "# Para maiores informações sobre classes: https://www.w3schools.com/python/python_classes.asp\n",
    "class Tarefa:\n",
    "    def __init__(self, id = -1, tempo_processamento = 0.0) -> None:\n",
    "        self.id = id                                    # Id da tarefa\n",
    "        self.tempo_processamento = tempo_processamento  # Tempo de processamento da tarefa\n",
    "\n",
    "lista_original = [\n",
    "    Tarefa(0, 10),\n",
    "    Tarefa(1, 2),\n",
    "    Tarefa(2, 50),\n",
    "    Tarefa(3, 25),\n",
    "    Tarefa(4, 35)\n",
    "]\n",
    "\n",
    "ordenado = sorted(lista_original, key=lambda x: x.tempo_processamento)\n",
    "\n",
    "for o in ordenado:\n",
    "    print(o.id, o.tempo_processamento)"
   ]
  },
  {
   "cell_type": "markdown",
   "metadata": {},
   "source": [
    "**Sugestão de exercício: implementar o EDD**\n"
   ]
  },
  {
   "cell_type": "markdown",
   "metadata": {},
   "source": [
    "\n",
    "## Outro algoritmo útil: algoritmo de Moore para resolver o 1//n(T)\n",
    "\n",
    "### Passos do Algoritmo\n",
    "\n",
    "1. **Ordenar as Tarefas por Data de Entrega (Ordem EDD):**\n",
    "   - Organize as tarefas em ordem não decrescente de suas datas de entrega.\n",
    "   - Isso garante que as tarefas com as datas de entrega mais próximas sejam consideradas primeiro.\n",
    "\n",
    "2. **Agendar as Tarefas Iterativamente:**\n",
    "   - Comece com um cronograma vazio.\n",
    "   - Adicione as tarefas uma a uma ao cronograma na ordem determinada pela data de entrega.\n",
    "\n",
    "3. **Verificar Atrasos:**\n",
    "   - Após adicionar cada tarefa, verifique se a tarefa está atrasada (ou seja, se o tempo total de processamento de todas as tarefas agendadas excede a data de entrega da tarefa).\n",
    "\n",
    "4. **Identificar e Remover a Tarefa Mais Demorada:**\n",
    "   - Se uma tarefa ficar atrasada após ser adicionada ao cronograma:\n",
    "     - Identifique a tarefa no cronograma atual com o maior tempo de processamento.\n",
    "     - Remova essa tarefa do cronograma (isso ajuda a reduzir a probabilidade de futuras tarefas ficarem atrasadas).\n",
    "\n",
    "5. **Repita Até Considerar Todas as Tarefas:**\n",
    "   - Continue adicionando tarefas e ajustando o cronograma até que todas as tarefas tenham sido consideradas.\n",
    "   - O cronograma final terá o número mínimo de tarefas atrasadas.\n",
    "\n",
    "**Sugestão de exercício: leia o código abaixo:**"
   ]
  },
  {
   "cell_type": "code",
   "execution_count": 17,
   "metadata": {},
   "outputs": [
    {
     "name": "stdout",
     "output_type": "stream",
     "text": [
      "Tarefas agendadas: \n",
      "0\n",
      "1\n",
      "3\n",
      "4\n",
      "Tarefas não agendadas:\n",
      "2\n"
     ]
    }
   ],
   "source": [
    "class Tarefa:\n",
    "    #pi => tempo de processamento\n",
    "    #di => data de entrega\n",
    "    def __init__(self, id, pi, di):\n",
    "        self.id = id\n",
    "        self.pi = pi\n",
    "        self.di = di\n",
    "\n",
    "tarefas_originais = [\n",
    "    Tarefa(0, 10, 30),\n",
    "    Tarefa(1, 10, 20),\n",
    "    Tarefa(2, 30, 50),\n",
    "    Tarefa(3, 15, 50),\n",
    "    Tarefa(4, 40, 80)\n",
    "]\n",
    "\n",
    "#Ordenndo EDD\n",
    "edd = sorted(tarefas_originais, key=lambda x:x.di)\n",
    "\n",
    "#Adicionando\n",
    "lista_agendadas = []\n",
    "lista_nao_agendadas = []\n",
    "makespan = 0.0\n",
    "\n",
    "for t in enumerate(tarefas_originais):\n",
    "    lista_agendadas.append(t)\n",
    "    makespan += t[1].pi\n",
    "    while makespan > lista_agendadas[-1][1].di:\n",
    "        tarefa_mais_demorada = max(lista_agendadas, key=lambda x: x[1].pi)\n",
    "        maior_pi = tarefa_mais_demorada[1].pi\n",
    "        elemento_removido = lista_agendadas.pop(tarefa_mais_demorada[0])\n",
    "        lista_nao_agendadas.append(elemento_removido)\n",
    "        makespan -= maior_pi\n",
    "\n",
    "print(\"Tarefas agendadas: \")\n",
    "for t in lista_agendadas:\n",
    "    print(t[1].id)\n",
    "\n",
    "print(\"Tarefas não agendadas:\")\n",
    "for t in lista_nao_agendadas:\n",
    "    print(t[1].id)\n"
   ]
  },
  {
   "cell_type": "markdown",
   "metadata": {},
   "source": [
    "## Minimizar _makespan_ em máquinas paralelas\n",
    "\n",
    "Podemos usar o algoritmo abaixo:\n",
    "\n",
    "### Entrada\n",
    "- Uma lista de tarefas, onde cada tarefa tem um tempo de processamento.\n",
    "- O número de máquinas \\( m \\).\n",
    "\n",
    "### Passos\n",
    "\n",
    "1. **Ordenar as Tarefas em Ordem Decrescente de Tempo de Processamento**\n",
    "\n",
    "2. **Distribuir Tarefas**\n",
    "   - Para cada tarefa, aloque-a à máquina com o menor tempo de processamento atual.\n",
    "\n",
    "3. **Retornar a Alocação de Tarefas e o Makespan**"
   ]
  },
  {
   "cell_type": "code",
   "execution_count": 8,
   "metadata": {},
   "outputs": [
    {
     "name": "stdout",
     "output_type": "stream",
     "text": [
      "Incluindo em 0\n",
      "Incluindo em 1\n",
      "Incluindo em 2\n",
      "Incluindo em 2\n",
      "Incluindo em 1\n",
      "Máquina 0: Makespan=50.0 [2]\n",
      "Máquina 1: Makespan=37.0 [4, 1]\n",
      "Máquina 2: Makespan=35.0 [3, 0]\n"
     ]
    }
   ],
   "source": [
    "class Tarefa:\n",
    "    def __init__(self, id = -1, tempo_processamento = 0.0) -> None:\n",
    "        self.id = id                                    # Id da tarefa\n",
    "        self.tempo_processamento = tempo_processamento  # Tempo de processamento da tarefa\n",
    "\n",
    "lista_original = [\n",
    "    Tarefa(0, 10),\n",
    "    Tarefa(1, 2),\n",
    "    Tarefa(2, 50),\n",
    "    Tarefa(3, 25),\n",
    "    Tarefa(4, 35)\n",
    "]\n",
    "\n",
    "n_maquinas = 3\n",
    "\n",
    "alocacao_maquinas = []\n",
    "makespan_maquinas = []\n",
    "for i in range(n_maquinas):\n",
    "    alocacao_maquinas.append([])\n",
    "    makespan_maquinas.append(0.0)\n",
    "\n",
    "# Início do algoritmo\n",
    "lista_ordenada = sorted(lista_original, key=lambda x:x.tempo_processamento, reverse=True) #LPT\n",
    "\n",
    "for t in lista_ordenada:\n",
    "    menor_makespan = min(\n",
    "        enumerate(makespan_maquinas),\n",
    "        key=lambda x:x[1]\n",
    "    )\n",
    "    print(f\"Incluindo em {menor_makespan[0]}\")\n",
    "    alocacao_maquinas[menor_makespan[0]].append(t)\n",
    "    makespan_maquinas[menor_makespan[0]] += t.tempo_processamento\n",
    "\n",
    "for i in enumerate(alocacao_maquinas):\n",
    "    print(f\"Máquina {i[0]}: Makespan={makespan_maquinas[i[0]]}\",[x.id for x in i[1]]) #essa mágica aqui é explicada na sequência"
   ]
  },
  {
   "cell_type": "markdown",
   "metadata": {},
   "source": [
    "\n",
    "### Parênteses: _List Comprehension_\n",
    "(mais info em https://www.w3schools.com/Python/python_lists_comprehension.asp )\n",
    "\n",
    "O problema: temos uma lista e precisamos criar outra, baseada nos valores da primeira. Por exemplo, queremos fazer uma lista com os valores originais somados de 5. Uma forma de fazer é a seguinte:"
   ]
  },
  {
   "cell_type": "code",
   "execution_count": 15,
   "metadata": {},
   "outputs": [
    {
     "name": "stdout",
     "output_type": "stream",
     "text": [
      "[15, 25, 35, 45, 55]\n"
     ]
    }
   ],
   "source": [
    "lista_original = [10, 20, 30, 40, 50]\n",
    "\n",
    "lista_nova = [] #Cria lista vazia\n",
    "for i in lista_original:\n",
    "    lista_nova.append(i + 5)\n",
    "\n",
    "print(lista_nova)"
   ]
  },
  {
   "cell_type": "markdown",
   "metadata": {},
   "source": [
    "Outra forma de fazer isso é com _list comprehension_. Essa notação constuma ser mais eficiente em termos de tempo de processamento, pois permite ao python gerenciar melhor a alocação de memória. A sintaxe básica do _list comprehension_ é:\n",
    "\n",
    "`nova_lista = [expressão for item in algum_iterador if condição verdadeira]`\n",
    "\n",
    "O código acima pode ser reescrito:"
   ]
  },
  {
   "cell_type": "code",
   "execution_count": 16,
   "metadata": {},
   "outputs": [
    {
     "name": "stdout",
     "output_type": "stream",
     "text": [
      "[15, 25, 35, 45, 55]\n"
     ]
    }
   ],
   "source": [
    "lista_original = [10, 20, 30, 40, 50]\n",
    "\n",
    "lista_nova = [i+5 for i in lista_original]\n",
    "\n",
    "print(lista_nova)"
   ]
  },
  {
   "cell_type": "markdown",
   "metadata": {},
   "source": [
    "## Regra de Johnson (F2//M)\n",
    "\n",
    "\n",
    "### Passos do algoritmo\n",
    "\n",
    "**Entradas: conjunto de tarefas $T$ (elementos $t$)**\n",
    "\n",
    "1. **Faça $set_1 = \\{t | t_1 < t_2 \\}$**\n",
    "\n",
    "2. **Faça $set_2 = \\{t | t_1 \\geq t_2 \\}$**\n",
    "\n",
    "3. **Ordene $set_1$ na SPT**\n",
    "\n",
    "4. **Ordene $set_2$ na LPT**\n",
    "\n",
    "5. **Resultado = $set_1 + set_2$**\n"
   ]
  },
  {
   "cell_type": "code",
   "execution_count": 14,
   "metadata": {},
   "outputs": [
    {
     "name": "stdout",
     "output_type": "stream",
     "text": [
      "2 5 15\n",
      "0 10 20\n",
      "1 30 10\n",
      "4 5 2\n",
      "3 30 1\n"
     ]
    }
   ],
   "source": [
    "class Tarefa:\n",
    "    def __init__(self, id, p1, p2) -> None:\n",
    "        self.id = id\n",
    "        self.p1 = p1\n",
    "        self.p2 = p2\n",
    "\n",
    "lista_entrada = [\n",
    "    Tarefa(0, 10, 20),\n",
    "    Tarefa(1, 30, 10),\n",
    "    Tarefa(2, 5, 15),\n",
    "    Tarefa(3, 30, 1),\n",
    "    Tarefa(4, 5, 2)\n",
    "]\n",
    "\n",
    "set_1 = [x for x in lista_entrada if x.p1 < x.p2]\n",
    "set_2 = [x for x in lista_entrada if x.p1 >= x.p2]\n",
    "\n",
    "set_1 = sorted(set_1, key=lambda x:x.p1)\n",
    "set_2 = sorted(set_2, key=lambda x:x.p2, reverse=True)\n",
    "\n",
    "resultado = set_1 + set_2\n",
    "\n",
    "for r in resultado:\n",
    "    print(r.id, r.p1, r.p2)"
   ]
  },
  {
   "cell_type": "markdown",
   "metadata": {},
   "source": [
    "**Sugestão de exercício:** dada a sequência de Johnson, faça a programação (ou seja, coloque tempos de início e fim de cada tarefa) "
   ]
  },
  {
   "cell_type": "markdown",
   "metadata": {},
   "source": [
    "## NEH - Nawaz-Enscore-Ham (F//M)\n",
    "\n",
    "1. **Calcular a Soma dos Tempos de Processamento**\n",
    "   - Para cada tarefa \\( T_i \\):\n",
    "     - Calcule a soma dos tempos de processamento em todas as máquinas: \\( \\text{soma}_i = \\sum_{j=1}^{m} p_{ij} \\), onde \\( p_{ij} \\) é o tempo de processamento da tarefa \\( T_i \\) na máquina \\( j \\).\n",
    "\n",
    "2. **Ordenar as Tarefas**\n",
    "   - Ordene as tarefas em ordem decrescente com base em \\( \\text{soma}_i \\).\n",
    "\n",
    "3. **Inicializar a Sequência**\n",
    "   - Comece com as duas primeiras tarefas da lista ordenada.\n",
    "   - Gere duas possíveis sequências: uma com a primeira tarefa antes da segunda e outra com a segunda tarefa antes da primeira.\n",
    "   - Calcule o makespan para ambas as sequências.\n",
    "   - Selecione a sequência com o menor makespan como a solução inicial.\n",
    "\n",
    "4. **Inserir as Próximas Tarefas**\n",
    "   - Para cada tarefa \\( T_i \\) subsequente na lista ordenada:\n",
    "     - Para cada posição \\( k \\) na sequência atual:\n",
    "       - Insira a tarefa \\( T_i \\) na posição \\( k \\).\n",
    "       - Calcule o makespan da nova sequência.\n",
    "       - Revert a inserção.\n",
    "     - Escolha a posição que resulta no menor makespan e insira a tarefa \\( T_i \\) nessa posição.\n",
    "\n",
    "5. **Repetir até Completar a Sequência**\n",
    "   - Continue o processo de inserção até que todas as tarefas estejam na sequência.\n",
    "\n",
    "6. **Retornar a Sequência Final**\n",
    "   - A sequência final das tarefas é a solução que minimiza o makespan.\n",
    "\n",
    "   **Exercício: Implemente o NEH**"
   ]
  }
 ],
 "metadata": {
  "kernelspec": {
   "display_name": "Python 3",
   "language": "python",
   "name": "python3"
  },
  "language_info": {
   "codemirror_mode": {
    "name": "ipython",
    "version": 3
   },
   "file_extension": ".py",
   "mimetype": "text/x-python",
   "name": "python",
   "nbconvert_exporter": "python",
   "pygments_lexer": "ipython3",
   "version": "3.12.3"
  }
 },
 "nbformat": 4,
 "nbformat_minor": 2
}
