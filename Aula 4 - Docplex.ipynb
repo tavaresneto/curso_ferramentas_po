{
 "cells": [
  {
   "cell_type": "markdown",
   "metadata": {},
   "source": [
    "# Instalação da versão community (**não é a versão educacional**)\n",
    "\n",
    "- $ python3 -m venv venv #Cria um ambiente virtual\n",
    "- $ source ./venv/bin/activate #Ativa o ambiente virtual\n",
    "- $ python3 -m pip install docplex #Instala o docplex\n",
    "- $ python3 -m pip install cplex #Instala o cplex"
   ]
  },
  {
   "cell_type": "markdown",
   "metadata": {},
   "source": [
    "# Exemplo 1 - Modelando uma mochila em DocPlex\n",
    "\n",
    "Seja o seguinte modelo:\n",
    "\n",
    "$max ~~z = \\sum_i (c_i \\cdot x_i)$\n",
    "\n",
    "s.t.\n",
    "\n",
    "$\\sum_i (w_i \\cdot x_i) \\leq C$\n",
    "\n",
    "Onde:\n",
    "\n",
    "* $x_i$ indica se o ítem $i$ é colocado na mochila ou não\n",
    "* $c_i$ é o ganho monetário por incluir $i$ na mochila\n",
    "* $w_i$ é o peso do ítem $i$\n",
    "* $C$ é a capacidade da mochila"
   ]
  },
  {
   "cell_type": "code",
   "execution_count": null,
   "metadata": {},
   "outputs": [],
   "source": [
    "# Dados de um toy model\n",
    "\n",
    "ci = [5, 10, 1, 20, 10, 10]\n",
    "wi = [1, 1, 1, 10, 5, 5]\n",
    "\n",
    "C = 20"
   ]
  },
  {
   "cell_type": "code",
   "execution_count": null,
   "metadata": {},
   "outputs": [],
   "source": [
    "from cplex.callbacks import LazyConstraintCallback\n",
    "from docplex.mp.callbacks.cb_mixin import *\n",
    "from docplex.mp.model import Model"
   ]
  },
  {
   "cell_type": "code",
   "execution_count": null,
   "metadata": {},
   "outputs": [],
   "source": [
    "# Criação do modelo\n",
    "\n",
    "model = Model(name=\"Mochila\", log_output=True)\n",
    "\n",
    "# Definição de variáveis\n",
    "\n",
    "# z\n",
    "z = model.z = model.continuous_var(name=\"z\")\n",
    "\n",
    "# x\n",
    "xi = model.xi = model.binary_var_list(len(wi), name=\"x\")\n"
   ]
  },
  {
   "cell_type": "markdown",
   "metadata": {},
   "source": [
    "Para a **criação de variáveis**, o Docplex disponibiliza um conjunto de métodos:\n",
    "\n",
    "- binary_var()\tSingle binary variable\n",
    "- binary_var_list()\tList of binary variables\n",
    "- binary_var_dict()\tDictionary of binary variables\n",
    "- binary_var_matrix()\tMatrix of binary variables\n",
    "- integer_var()\tSingle integer variable\n",
    "- integer_var_list()\tList of integer variables\n",
    "- integer_var_dict()\tDictionary of integer variables\n",
    "- integer_var_matrix()\tMatrix of integer variables\n",
    "- continuous_var()\tSingle continuous variable\n",
    "- continuous_var_list()\tList of continuous variables\n",
    "- continuous_var_dict()\tDictionary of continuous variables\n",
    "- continuous_var_matrix()\tMatrix of continuous variables\n",
    "\n",
    "Links úteis:\n",
    "* https://ibmdecisionoptimization.github.io/docplex-doc/mp/creating_model.html\n",
    "* https://ibmdecisionoptimization.github.io/docplex-doc/mp/docplex.mp.model.html"
   ]
  },
  {
   "cell_type": "code",
   "execution_count": null,
   "metadata": {},
   "outputs": [],
   "source": [
    "# Definição de restrições\n",
    "\n",
    "model.maximize(z)\n",
    "\n",
    "# z = \\sum_i (c_i \\cdot x_i)\n",
    "model.add_constraint (z == model.sum(ci[i] * xi[i] for i in range(len(ci))))\n",
    "\n",
    "# \\sum_i (w_i \\cdot x_i) \\leq C\n",
    "model.add_constraint (model.sum(wi[i] * xi[i] for i in range(len(ci))) <= C)"
   ]
  },
  {
   "cell_type": "markdown",
   "metadata": {},
   "source": [
    "**Resolvendo o modelo e obtendo os resultados**"
   ]
  },
  {
   "cell_type": "code",
   "execution_count": null,
   "metadata": {},
   "outputs": [],
   "source": [
    "solucao = model.solve()"
   ]
  },
  {
   "cell_type": "code",
   "execution_count": null,
   "metadata": {},
   "outputs": [],
   "source": [
    "print(\"z = \",z.solution_value)\n",
    "for i in range(len(ci)):\n",
    "    print(f\"x{i}={xi[i].solution_value}\")\n",
    "\n",
    "print(\"Solution status:\")\n",
    "print(solucao.solve_details.status_code, solucao.solve_details.status)"
   ]
  },
  {
   "cell_type": "markdown",
   "metadata": {},
   "source": [
    "Material relevante:\n",
    "\n",
    "* Classe **solution**\n",
    "https://ibmdecisionoptimization.github.io/docplex-doc/mp/docplex.mp.solution.html\n",
    "\n",
    "* Classe **SolveDetails**\n",
    "https://ibmdecisionoptimization.github.io/docplex-doc/mp/docplex.mp.sdetails.html#docplex.mp.sdetails.SolveDetails\n"
   ]
  },
  {
   "cell_type": "markdown",
   "metadata": {},
   "source": [
    "# Exemplo 2 - Dimensionamento de lotes\n",
    "\n",
    "$min~~z = \\sum_t (h \\cdot I_t + s \\cdot y_t)$\n",
    "\n",
    "$I_0 = 0$\n",
    "\n",
    "$I_t = I_{(t-1)} + x_t - d_t ~~~ \\forall t > 0$\n",
    "\n",
    "$M \\cdot y_t \\geq x_t ~~~\\forall t$"
   ]
  },
  {
   "cell_type": "code",
   "execution_count": null,
   "metadata": {},
   "outputs": [],
   "source": [
    "# Dados do toy\n",
    "\n",
    "di = [0, 100, 0, 200, 50, 100, 0, 100]\n",
    "h = 1\n",
    "s = 300"
   ]
  },
  {
   "cell_type": "code",
   "execution_count": null,
   "metadata": {},
   "outputs": [],
   "source": [
    "# Criação do modelo\n",
    "\n",
    "model = Model(name=\"LotSizing\", log_output=True)\n",
    "\n",
    "# Definição de variáveis\n",
    "\n",
    "z = model.z = model.continuous_var(name=\"z\")\n",
    "\n",
    "xt = model.xt = model.continuous_var_list(len(di), name=\"x\")\n",
    "\n",
    "yt = model.yt = model.binary_var_list(len(di), name=\"y\")\n",
    "\n",
    "It = model.it = model.continuous_var_list(len(di), name=\"i\")\n",
    "\n",
    "# Definição de restrições\n",
    "\n",
    "# Definição de restrições\n",
    "\n",
    "model.minimize(z)\n",
    "\n",
    "# z = \\sum_i (c_i \\cdot x_i)\n",
    "model.add_constraint (z == model.sum(\n",
    "    h * It[t] + s * yt[t]\n",
    "    for t in range(len(di))\n",
    "))\n",
    "\n",
    "# I_t = I_{(t-1)} + x_t - d_t   \\forall t > 0\n",
    "model.add_constraints (\n",
    "    It[t] == It[t-1] + xt[t] - di[t]\n",
    "    for t in range(1, len(di))\n",
    ")\n",
    "\n",
    "#M \\cdot y_t \\geq x_t ~~~\\forall t\n",
    "model.add_constraints (\n",
    "    100000 * yt[t] >= xt[t]\n",
    "    for t in range(1, len(di))\n",
    ")\n",
    "\n",
    "#I0 = 0\n",
    "It[0].set_ub(0)"
   ]
  },
  {
   "cell_type": "code",
   "execution_count": null,
   "metadata": {},
   "outputs": [],
   "source": [
    "solucao = model.solve()"
   ]
  },
  {
   "cell_type": "code",
   "execution_count": null,
   "metadata": {},
   "outputs": [],
   "source": [
    "#Resultados:\n",
    "\n",
    "print(f\"FO: {z.solution_value}\")\n",
    "print(\"i\\tIt\\txt\\tyt\")\n",
    "for t in range(len(di)):\n",
    "    print(f\"{t}\\t{It[t].solution_value}\\t{xt[t].solution_value}\\t{yt[t].solution_value}\")"
   ]
  },
  {
   "cell_type": "markdown",
   "metadata": {},
   "source": [
    "## Salvando modelo e solução"
   ]
  },
  {
   "cell_type": "code",
   "execution_count": null,
   "metadata": {},
   "outputs": [],
   "source": [
    "model.export_as_lp(\"losizing.lp\")\n",
    "\n",
    "solucao.export_as_sol(\".\", \"lotsizing.sol\")"
   ]
  },
  {
   "cell_type": "markdown",
   "metadata": {},
   "source": [
    "# Implementando callbacks\n",
    "\n",
    "Vamos supor o modelo anterior:\n",
    "\n",
    "$min~~z = \\sum_t (h \\cdot I_t + s \\cdot y_t)$\n",
    "\n",
    "$I_0 = 0$\n",
    "\n",
    "$I_t = I_{(t-1)} + x_t - d_t$\n",
    "\n",
    "$M \\cdot y_t \\geq x_t ~~~\\forall t$\n",
    "\n",
    "Vamos adicionar uma nova restrição:\n",
    "\n",
    "$x_t \\leq 300 ~~~\\forall t$\n",
    "\n",
    "Mas, agora, queremos adicionar essa restrição apenas se ela for violada. Para isso, vamos usar um callback:\n",
    "\n",
    "(obs: mais exemplos em: https://github.com/IBMDecisionOptimization/docplex-examples/tree/master/examples/mp/callbacks )"
   ]
  },
  {
   "cell_type": "code",
   "execution_count": null,
   "metadata": {},
   "outputs": [],
   "source": [
    "di = [0, 100, 0, 200, 50, 100, 0, 100]\n",
    "h = 1\n",
    "s = 300\n",
    "\n",
    "# Criação do modelo\n",
    "\n",
    "model = Model(name=\"LotSizing\", log_output=True)\n",
    "\n",
    "# Definição de variáveis\n",
    "\n",
    "z = model.z = model.continuous_var(name=\"z\")\n",
    "\n",
    "xt = model.xt = model.continuous_var_list(len(di), name=\"x\")\n",
    "\n",
    "yt = model.yt = model.binary_var_list(len(di), name=\"y\")\n",
    "\n",
    "It = model.it = model.continuous_var_list(len(di), name=\"i\")\n",
    "\n",
    "# Definição de restrições\n",
    "\n",
    "# Definição de restrições\n",
    "\n",
    "model.minimize(z)\n",
    "\n",
    "# z = \\sum_i (c_i \\cdot x_i)\n",
    "model.add_constraint (z == model.sum(\n",
    "    h * It[t] + s * yt[t]\n",
    "    for t in range(len(di))\n",
    "))\n",
    "\n",
    "# I_t = I_{(t-1)} + x_t - d_t   \\forall t > 0\n",
    "model.add_constraints (\n",
    "    It[t] == It[t-1] + xt[t] - di[t]\n",
    "    for t in range(1, len(di))\n",
    ")\n",
    "\n",
    "#M \\cdot y_t \\geq x_t ~~~\\forall t\n",
    "model.add_constraints (\n",
    "    100000 * yt[t] >= xt[t]\n",
    "    for t in range(1, len(di))\n",
    ")\n",
    "\n",
    "#I0 = 0\n",
    "It[0].set_ub(0)"
   ]
  },
  {
   "cell_type": "code",
   "execution_count": null,
   "metadata": {},
   "outputs": [],
   "source": [
    "class MeuCallBack(ConstraintCallbackMixin, LazyConstraintCallback):\n",
    "    def __init__(self, env):\n",
    "        LazyConstraintCallback.__init__(self, env)\n",
    "        ConstraintCallbackMixin.__init__(self)\n",
    "    \n",
    "    @print_called('--> lazy constraint callback called: #{0}')\n",
    "    def __call__(self):\n",
    "\n",
    "        xt = self.make_solution_from_vars(self.model.xt)\n",
    "        for t in range(len(di)):\n",
    "            if xt.get_value(self.model.xt[t]) > 300:\n",
    "                sol = self.make_complete_solution()\n",
    "                cts = [self.model.xt[t] <= 300]\n",
    "                unsats = self.get_cpx_unsatisfied_cts(cts, sol, tolerance=1e-6)\n",
    "                for ct, cpx_lhs, sense, cpx_rhs in unsats:\n",
    "                    self.add(cpx_lhs, sense, cpx_rhs)\n",
    "\n",
    "                print(\"Corte adicionado!\")\n",
    "                print(cts)\n",
    "                break\n",
    "\n",
    "\n",
    "meu_callback = model.register_callback(MeuCallBack)\n",
    "\n",
    "solucao = model.solve()\n",
    "\n",
    "\n",
    "\n",
    "print(f\"FO: {z.solution_value}\")\n",
    "print(\"i\\tIt\\txt\\tyt\")\n",
    "for t in range(len(di)):\n",
    "    print(f\"{t}\\t{It[t].solution_value}\\t{xt[t].solution_value}\\t{yt[t].solution_value}\")"
   ]
  }
 ],
 "metadata": {
  "kernelspec": {
   "display_name": ".venv",
   "language": "python",
   "name": "python3"
  },
  "language_info": {
   "codemirror_mode": {
    "name": "ipython",
    "version": 3
   },
   "file_extension": ".py",
   "mimetype": "text/x-python",
   "name": "python",
   "nbconvert_exporter": "python",
   "pygments_lexer": "ipython3",
   "version": "3.12.3"
  }
 },
 "nbformat": 4,
 "nbformat_minor": 2
}
