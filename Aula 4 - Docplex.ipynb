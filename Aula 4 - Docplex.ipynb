{
 "cells": [
  {
   "cell_type": "markdown",
   "metadata": {},
   "source": [
    "# Exemplo 1 - Modelando uma mochila em DocPlex\n",
    "\n",
    "Seja o seguinte modelo:\n",
    "\n",
    "$max ~~z = \\sum_i (c_i \\cdot x_i)$\n",
    "\n",
    "s.t.\n",
    "\n",
    "$\\sum_i (w_i \\cdot x_i) \\leq C$\n",
    "\n",
    "Onde:\n",
    "\n",
    "* $x_i$ indica se o ítem $i$ é colocado na mochila ou não\n",
    "* $c_i$ é o ganho monetário por incluir $i$ na mochila\n",
    "* $w_i$ é o peso do ítem $i$\n",
    "* $C$ é a capacidade da mochila"
   ]
  },
  {
   "cell_type": "code",
   "execution_count": 15,
   "metadata": {},
   "outputs": [],
   "source": [
    "# Dados de um toy model\n",
    "\n",
    "ci = [5, 10, 1, 20, 10, 10]\n",
    "wi = [1, 1, 1, 10, 5, 5]\n",
    "\n",
    "C = 20"
   ]
  },
  {
   "cell_type": "code",
   "execution_count": 1,
   "metadata": {},
   "outputs": [],
   "source": [
    "from cplex.callbacks import LazyConstraintCallback\n",
    "from docplex.mp.callbacks.cb_mixin import *\n",
    "from docplex.mp.model import Model"
   ]
  },
  {
   "cell_type": "code",
   "execution_count": 7,
   "metadata": {},
   "outputs": [],
   "source": [
    "# Criação do modelo\n",
    "\n",
    "model = Model(name=\"Mochila\", log_output=True)\n",
    "\n",
    "# Definição de variáveis\n",
    "\n",
    "# z\n",
    "z = model.z = model.continuous_var(name=\"z\")\n",
    "\n",
    "# x\n",
    "xi = model.xi = model.binary_var_list(len(wi), name=\"x\")\n"
   ]
  },
  {
   "cell_type": "markdown",
   "metadata": {},
   "source": [
    "Para a **criação de variáveis**, o Docplex disponibiliza um conjunto de métodos. \n",
    "\n",
    "Links úteis:\n",
    "* https://ibmdecisionoptimization.github.io/docplex-doc/mp/creating_model.html\n",
    "* https://ibmdecisionoptimization.github.io/docplex-doc/mp/docplex.mp.model.html"
   ]
  },
  {
   "cell_type": "code",
   "execution_count": 16,
   "metadata": {},
   "outputs": [
    {
     "data": {
      "text/plain": [
       "docplex.mp.LinearConstraint[](x_0+x_1+x_2+10x_3+5x_4+5x_5,LE,20)"
      ]
     },
     "execution_count": 16,
     "metadata": {},
     "output_type": "execute_result"
    }
   ],
   "source": [
    "# Definição de restrições\n",
    "\n",
    "model.maximize(z)\n",
    "\n",
    "# z = \\sum_i (c_i \\cdot x_i)\n",
    "model.add_constraint (z == model.sum(ci[i] * xi[i] for i in range(len(ci))))\n",
    "\n",
    "# \\sum_i (w_i \\cdot x_i) \\leq C\n",
    "model.add_constraint (model.sum(wi[i] * xi[i] for i in range(len(ci))) <= C)"
   ]
  },
  {
   "cell_type": "markdown",
   "metadata": {},
   "source": [
    "**Resolvendo o modelo e obtendo os resultados**"
   ]
  },
  {
   "cell_type": "code",
   "execution_count": 17,
   "metadata": {},
   "outputs": [
    {
     "name": "stdout",
     "output_type": "stream",
     "text": [
      "Version identifier: 22.1.1.0 | 2022-11-28 | 9160aff4d\n",
      "CPXPARAM_Read_DataCheck                          1\n",
      "1 of 2 MIP starts provided solutions.\n",
      "MIP start 'm2' defined initial solution with objective 0.0000.\n",
      "Retaining values of one MIP start for possible repair.\n",
      "Tried aggregator 1 time.\n",
      "MIP Presolve eliminated 3 rows and 2 columns.\n",
      "MIP Presolve added 1 rows and 1 columns.\n",
      "MIP Presolve modified 6 coefficients.\n",
      "Reduced MIP has 2 rows, 6 columns, and 9 nonzeros.\n",
      "Reduced MIP has 4 binaries, 2 generals, 0 SOSs, and 0 indicators.\n",
      "Presolve time = 0.01 sec. (0.01 ticks)\n",
      "Probing time = 0.00 sec. (0.00 ticks)\n",
      "Tried aggregator 1 time.\n",
      "MIP Presolve added 1 rows and 1 columns.\n",
      "Reduced MIP has 3 rows, 7 columns, and 12 nonzeros.\n",
      "Reduced MIP has 4 binaries, 3 generals, 0 SOSs, and 0 indicators.\n",
      "Presolve time = 0.00 sec. (0.01 ticks)\n",
      "Probing time = 0.00 sec. (0.00 ticks)\n",
      "MIP emphasis: balance optimality and feasibility.\n",
      "MIP search method: dynamic search.\n",
      "Parallel mode: deterministic, using up to 16 threads.\n",
      "Root relaxation solution time = 0.00 sec. (0.00 ticks)\n",
      "\n",
      "        Nodes                                         Cuts/\n",
      "   Node  Left     Objective  IInf  Best Integer    Best Bound    ItCnt     Gap\n",
      "\n",
      "*     0+    0                            0.0000       56.0000              --- \n",
      "*     0+    0                           46.0000       56.0000            21.74%\n",
      "      0     0       48.3333     1       46.0000       48.3333        1    5.07%\n",
      "      0     0        cutoff             46.0000                      1     --- \n",
      "Elapsed time = 0.14 sec. (0.05 ticks, tree = 0.01 MB, solutions = 2)\n",
      "\n",
      "Root node processing (before b&c):\n",
      "  Real time             =    0.15 sec. (0.05 ticks)\n",
      "Parallel b&c, 16 threads:\n",
      "  Real time             =    0.00 sec. (0.00 ticks)\n",
      "  Sync time (average)   =    0.00 sec.\n",
      "  Wait time (average)   =    0.00 sec.\n",
      "                          ------------\n",
      "Total (root+branch&cut) =    0.15 sec. (0.05 ticks)\n"
     ]
    }
   ],
   "source": [
    "solucao = model.solve()"
   ]
  },
  {
   "cell_type": "code",
   "execution_count": 21,
   "metadata": {},
   "outputs": [
    {
     "name": "stdout",
     "output_type": "stream",
     "text": [
      "z =  46.0\n",
      "x0=1.0\n",
      "x1=1.0\n",
      "x2=1.0\n",
      "x3=1.0\n",
      "x4=1.0\n",
      "x5=0\n",
      "Solution status:\n",
      "101 integer optimal solution\n"
     ]
    }
   ],
   "source": [
    "print(\"z = \",z.solution_value)\n",
    "for i in range(len(ci)):\n",
    "    print(f\"x{i}={xi[i].solution_value}\")\n",
    "\n",
    "print(\"Solution status:\")\n",
    "print(solucao.solve_details.status_code, solucao.solve_details.status)"
   ]
  },
  {
   "cell_type": "markdown",
   "metadata": {},
   "source": [
    "Material relevante:\n",
    "\n",
    "*Classe **solution**\n",
    "https://ibmdecisionoptimization.github.io/docplex-doc/mp/docplex.mp.solution.html\n",
    "\n",
    "*Classe **SolveDetails**\n",
    "https://ibmdecisionoptimization.github.io/docplex-doc/mp/docplex.mp.sdetails.html#docplex.mp.sdetails.SolveDetails\n"
   ]
  },
  {
   "cell_type": "markdown",
   "metadata": {},
   "source": [
    "# Exemplo 2 - Dimensionamento de lotes\n",
    "\n",
    "$min~~z = \\sum_t (h \\cdot I_t + s \\cdot y_t)$\n",
    "\n",
    "$I_0 = 0$\n",
    "\n",
    "$I_t = I_{(t-1)} + x_t - d_t$\n",
    "\n",
    "$M \\cdot y_t \\geq x_t ~~~\\forall t$"
   ]
  },
  {
   "cell_type": "code",
   "execution_count": 36,
   "metadata": {},
   "outputs": [],
   "source": [
    "# Dados do toy\n",
    "\n",
    "di = [0, 100, 0, 200, 50, 100, 0, 100]\n",
    "h = 1\n",
    "s = 300"
   ]
  },
  {
   "cell_type": "code",
   "execution_count": 43,
   "metadata": {},
   "outputs": [
    {
     "data": {
      "text/plain": [
       "0"
      ]
     },
     "execution_count": 43,
     "metadata": {},
     "output_type": "execute_result"
    }
   ],
   "source": [
    "# Criação do modelo\n",
    "\n",
    "model = Model(name=\"LotSizing\", log_output=True)\n",
    "\n",
    "# Definição de variáveis\n",
    "\n",
    "z = model.z = model.continuous_var(name=\"z\")\n",
    "\n",
    "xt = model.xt = model.continuous_var_list(len(di), name=\"x\")\n",
    "\n",
    "yt = model.yt = model.binary_var_list(len(di), name=\"y\")\n",
    "\n",
    "It = model.it = model.continuous_var_list(len(di), name=\"i\")\n",
    "\n",
    "# Definição de restrições\n",
    "\n",
    "# Definição de restrições\n",
    "\n",
    "model.minimize(z)\n",
    "\n",
    "# z = \\sum_i (c_i \\cdot x_i)\n",
    "model.add_constraint (z == model.sum(\n",
    "    h * It[t] + s * yt[t]\n",
    "    for t in range(len(di))\n",
    "))\n",
    "\n",
    "# I_t = I_{(t-1)} + x_t - d_t   \\forall t > 0\n",
    "model.add_constraints (\n",
    "    It[t] == It[t-1] + xt[t] - di[t]\n",
    "    for t in range(1, len(di))\n",
    ")\n",
    "\n",
    "#M \\cdot y_t \\geq x_t ~~~\\forall t\n",
    "model.add_constraints (\n",
    "    100000 * yt[t] >= xt[t]\n",
    "    for t in range(1, len(di))\n",
    ")\n",
    "\n",
    "#I0 = 0\n",
    "It[0].set_ub(0)"
   ]
  },
  {
   "cell_type": "code",
   "execution_count": 44,
   "metadata": {},
   "outputs": [
    {
     "name": "stdout",
     "output_type": "stream",
     "text": [
      "Version identifier: 22.1.1.0 | 2022-11-28 | 9160aff4d\n",
      "CPXPARAM_Read_DataCheck                          1\n",
      "Found incumbent of value 1500.000000 after 0.00 sec. (0.00 ticks)\n",
      "Tried aggregator 2 times.\n",
      "MIP Presolve eliminated 3 rows and 6 columns.\n",
      "MIP Presolve added 2 rows and 0 columns.\n",
      "Aggregator did 2 substitutions.\n",
      "Reduced MIP has 12 rows, 17 columns, and 30 nonzeros.\n",
      "Reduced MIP has 6 binaries, 0 generals, 0 SOSs, and 0 indicators.\n",
      "Presolve time = 0.00 sec. (0.03 ticks)\n",
      "Probing fixed 0 vars, tightened 4 bounds.\n",
      "Probing time = 0.00 sec. (0.01 ticks)\n",
      "Tried aggregator 1 time.\n",
      "Detecting symmetries...\n",
      "MIP Presolve modified 6 coefficients.\n",
      "Reduced MIP has 12 rows, 17 columns, and 30 nonzeros.\n",
      "Reduced MIP has 6 binaries, 0 generals, 0 SOSs, and 0 indicators.\n",
      "Presolve time = 0.00 sec. (0.02 ticks)\n",
      "Probing time = 0.00 sec. (0.00 ticks)\n",
      "MIP emphasis: balance optimality and feasibility.\n",
      "MIP search method: dynamic search.\n",
      "Parallel mode: deterministic, using up to 16 threads.\n",
      "Root relaxation solution time = 0.00 sec. (0.02 ticks)\n",
      "\n",
      "        Nodes                                         Cuts/\n",
      "   Node  Left     Objective  IInf  Best Integer    Best Bound    ItCnt     Gap\n",
      "\n",
      "*     0+    0                         1500.0000      300.0000            80.00%\n",
      "      0     0      501.3500     3     1500.0000      501.3500        4   66.58%\n",
      "*     0+    0                         1400.0000      501.3500            64.19%\n",
      "      0     0     1050.2501     1     1400.0000       Cuts: 9        8   24.98%\n",
      "*     0+    0                         1300.0000     1050.2501            19.21%\n",
      "*     0+    0                         1150.0000     1050.2501             8.67%\n",
      "      0     0        cutoff           1150.0000                     10    0.00%\n",
      "Elapsed time = 0.26 sec. (0.25 ticks, tree = 0.01 MB, solutions = 4)\n",
      "\n",
      "Implied bound cuts applied:  2\n",
      "Mixed integer rounding cuts applied:  3\n",
      "Gomory fractional cuts applied:  2\n",
      "\n",
      "Root node processing (before b&c):\n",
      "  Real time             =    0.26 sec. (0.26 ticks)\n",
      "Parallel b&c, 16 threads:\n",
      "  Real time             =    0.00 sec. (0.00 ticks)\n",
      "  Sync time (average)   =    0.00 sec.\n",
      "  Wait time (average)   =    0.00 sec.\n",
      "                          ------------\n",
      "Total (root+branch&cut) =    0.26 sec. (0.26 ticks)\n"
     ]
    }
   ],
   "source": [
    "solucao = model.solve()"
   ]
  },
  {
   "cell_type": "code",
   "execution_count": 46,
   "metadata": {},
   "outputs": [
    {
     "name": "stdout",
     "output_type": "stream",
     "text": [
      "FO: 1150.0\n",
      "i\tIt\txt\tyt\n",
      "0\t0\t0\t0\n",
      "1\t0\t100.0\t1.0\n",
      "2\t0\t0\t0\n",
      "3\t150.0\t350.0\t1.0\n",
      "4\t100.0\t0\t0\n",
      "5\t0\t0\t0\n",
      "6\t0\t0\t0\n",
      "7\t0\t100.0\t1.0\n"
     ]
    }
   ],
   "source": [
    "#Resultados:\n",
    "\n",
    "print(f\"FO: {z.solution_value}\")\n",
    "print(\"i\\tIt\\txt\\tyt\")\n",
    "for t in range(len(di)):\n",
    "    print(f\"{t}\\t{It[t].solution_value}\\t{xt[t].solution_value}\\t{yt[t].solution_value}\")"
   ]
  },
  {
   "cell_type": "markdown",
   "metadata": {},
   "source": [
    "## Salvando modelo e solução"
   ]
  },
  {
   "cell_type": "code",
   "execution_count": 49,
   "metadata": {},
   "outputs": [
    {
     "data": {
      "text/plain": [
       "'./lotsizing.sol'"
      ]
     },
     "execution_count": 49,
     "metadata": {},
     "output_type": "execute_result"
    }
   ],
   "source": [
    "model.export_as_lp(\"losizing.lp\")\n",
    "\n",
    "solucao.export_as_sol(\".\", \"lotsizing.sol\")"
   ]
  },
  {
   "cell_type": "markdown",
   "metadata": {},
   "source": [
    "# Implementando callbacks\n",
    "\n",
    "Vamos supor o modelo anterior:\n",
    "\n",
    "$min~~z = \\sum_t (h \\cdot I_t + s \\cdot y_t)$\n",
    "\n",
    "$I_0 = 0$\n",
    "\n",
    "$I_t = I_{(t-1)} + x_t - d_t$\n",
    "\n",
    "$M \\cdot y_t \\geq x_t ~~~\\forall t$\n",
    "\n",
    "Vamos adicionar uma nova restrição:\n",
    "\n",
    "$x_t \\leq 300 ~~~\\forall t$\n",
    "\n",
    "Mas, agora, queremos adicionar essa restrição apenas se ela for violada. Para isso, vamos usar um callback:\n",
    "\n",
    "(obs: mais exemplos em: https://github.com/IBMDecisionOptimization/docplex-examples/tree/master/examples/mp/callbacks )"
   ]
  },
  {
   "cell_type": "code",
   "execution_count": 63,
   "metadata": {},
   "outputs": [
    {
     "data": {
      "text/plain": [
       "0"
      ]
     },
     "execution_count": 63,
     "metadata": {},
     "output_type": "execute_result"
    }
   ],
   "source": [
    "di = [0, 100, 0, 200, 50, 100, 0, 100]\n",
    "h = 1\n",
    "s = 300\n",
    "\n",
    "# Criação do modelo\n",
    "\n",
    "model = Model(name=\"LotSizing\", log_output=True)\n",
    "\n",
    "# Definição de variáveis\n",
    "\n",
    "z = model.z = model.continuous_var(name=\"z\")\n",
    "\n",
    "xt = model.xt = model.continuous_var_list(len(di), name=\"x\")\n",
    "\n",
    "yt = model.yt = model.binary_var_list(len(di), name=\"y\")\n",
    "\n",
    "It = model.it = model.continuous_var_list(len(di), name=\"i\")\n",
    "\n",
    "# Definição de restrições\n",
    "\n",
    "# Definição de restrições\n",
    "\n",
    "model.minimize(z)\n",
    "\n",
    "# z = \\sum_i (c_i \\cdot x_i)\n",
    "model.add_constraint (z == model.sum(\n",
    "    h * It[t] + s * yt[t]\n",
    "    for t in range(len(di))\n",
    "))\n",
    "\n",
    "# I_t = I_{(t-1)} + x_t - d_t   \\forall t > 0\n",
    "model.add_constraints (\n",
    "    It[t] == It[t-1] + xt[t] - di[t]\n",
    "    for t in range(1, len(di))\n",
    ")\n",
    "\n",
    "#M \\cdot y_t \\geq x_t ~~~\\forall t\n",
    "model.add_constraints (\n",
    "    100000 * yt[t] >= xt[t]\n",
    "    for t in range(1, len(di))\n",
    ")\n",
    "\n",
    "#I0 = 0\n",
    "It[0].set_ub(0)"
   ]
  },
  {
   "cell_type": "code",
   "execution_count": 72,
   "metadata": {},
   "outputs": [
    {
     "name": "stdout",
     "output_type": "stream",
     "text": [
      "Version identifier: 22.1.1.0 | 2022-11-28 | 9160aff4d\n",
      "CPXPARAM_Read_DataCheck                          1\n",
      "Legacy callback                                  LD\n",
      "Warning: Control callbacks may disable some MIP features.\n",
      "Lazy constraint(s) or lazy constraint/branch callback is present.\n",
      "    Disabling dual reductions (CPX_PARAM_REDUCE) in presolve.\n",
      "    Disabling presolve reductions that prevent crushing forms (CPX_PARAM_PREREFORM).\n",
      "         Disabling repeat represolve because of lazy constraint/incumbent callback.\n",
      "MIP emphasis: balance optimality and feasibility.\n",
      "MIP search method: traditional branch-and-cut.\n",
      "Parallel mode: none, using 1 thread.\n",
      "--> lazy constraint callback called: #1\n",
      "Iniciando loop...\n",
      "OK...\n",
      "x_0\n",
      "OK...\n",
      "x_1\n",
      "OK...\n",
      "x_2\n",
      "OK...\n",
      "x_3\n",
      "---\n",
      "\n",
      "Flow cuts applied:  5\n",
      "Mixed integer rounding cuts applied:  3\n",
      "Gomory fractional cuts applied:  3\n",
      "\n",
      "Root node processing (before b&c):\n",
      "  Real time             =    0.01 sec. (0.05 ticks)\n",
      "Sequential b&c:\n",
      "  Real time             =    0.00 sec. (0.00 ticks)\n",
      "                          ------------\n",
      "Total (root+branch&cut) =    0.01 sec. (0.05 ticks)\n",
      "CPLEX Error  1006: Error during callback.\n",
      "Error: Internal error in CPLEX solve: DOcplexException: Expecting variable, variable name or expression, 3 was passed\n"
     ]
    }
   ],
   "source": [
    "class MeuCallBack(ConstraintCallbackMixin, LazyConstraintCallback):\n",
    "    def __init__(self, env):\n",
    "        LazyConstraintCallback.__init__(self, env)\n",
    "        ConstraintCallbackMixin.__init__(self)\n",
    "    \n",
    "    @print_called('--> lazy constraint callback called: #{0}')\n",
    "    def __call__(self):\n",
    "\n",
    "        xt = self.make_solution_from_vars(self.model.xt)\n",
    "        print(\"Iniciando loop...\")\n",
    "        for t in range(len(di)):\n",
    "            print(\"OK...\")\n",
    "            print(xt.get_value(self.model.xt[t]))\n",
    "            if xt.get_value(self.model.xt[t]) > 300:\n",
    "                print(\"---\")\n",
    "                sol = self.make_complete_solution()\n",
    "                print(\"AAAAAA\")\n",
    "                cts = [xt[t] <= 300]\n",
    "                print(\"cts=\",cts)\n",
    "                unsats = self.get_cpx_unsatisfied_cts(cts, sol, tolerance=1e-6)\n",
    "                for ct, cpx_lhs, sense, cpx_rhs in unsats:\n",
    "                    self.add(cpx_lhs, sense, cpx_rhs)\n",
    "\n",
    "                print(\"Corte adicionado!\")\n",
    "                print(cts)\n",
    "                break\n",
    "\n",
    "\n",
    "meu_callback = model.register_callback(MeuCallBack)\n",
    "\n",
    "solucao = model.solve()\n",
    "\n",
    "\n",
    "\n",
    "# print(f\"FO: {z.solution_value}\")\n",
    "# print(\"i\\tIt\\txt\\tyt\")\n",
    "# for t in range(len(di)):\n",
    "#     print(f\"{t}\\t{It[t].solution_value}\\t{xt[t].solution_value}\\t{yt[t].solution_value}\")"
   ]
  }
 ],
 "metadata": {
  "kernelspec": {
   "display_name": "venv",
   "language": "python",
   "name": "python3"
  },
  "language_info": {
   "codemirror_mode": {
    "name": "ipython",
    "version": 3
   },
   "file_extension": ".py",
   "mimetype": "text/x-python",
   "name": "python",
   "nbconvert_exporter": "python",
   "pygments_lexer": "ipython3",
   "version": "3.10.12"
  }
 },
 "nbformat": 4,
 "nbformat_minor": 2
}
